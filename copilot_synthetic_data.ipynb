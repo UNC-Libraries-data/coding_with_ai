{
 "cells": [
  {
   "cell_type": "markdown",
   "metadata": {},
   "source": [
    "# Using Copilot to generate Synthetic Data"
   ]
  },
  {
   "cell_type": "markdown",
   "metadata": {},
   "source": [
    "For this example, we're going to show how you can use Microsoft or GitHub Copilot to generate a synthetic data alongside some of the issues that "
   ]
  },
  {
   "cell_type": "markdown",
   "metadata": {},
   "source": [
    "**First prompt:** \"Create a synthetic dataset of 20 interviews regarding the usage of a healthcare phone application. For each interview, data about the name, age, gender, location, trascription of sample interview, and satisfaction rating should be included.\""
   ]
  },
  {
   "cell_type": "code",
   "execution_count": 2,
   "metadata": {},
   "outputs": [],
   "source": [
    "import pandas as pd"
   ]
  },
  {
   "cell_type": "code",
   "execution_count": 4,
   "metadata": {},
   "outputs": [
    {
     "ename": "ParserError",
     "evalue": "Error tokenizing data. C error: Expected 6 fields in line 6, saw 7\n",
     "output_type": "error",
     "traceback": [
      "\u001b[0;31m---------------------------------------------------------------------------\u001b[0m",
      "\u001b[0;31mParserError\u001b[0m                               Traceback (most recent call last)",
      "Cell \u001b[0;32mIn[4], line 1\u001b[0m\n\u001b[0;32m----> 1\u001b[0m pd \u001b[38;5;241m=\u001b[39m \u001b[43mpd\u001b[49m\u001b[38;5;241;43m.\u001b[39;49m\u001b[43mread_csv\u001b[49m\u001b[43m(\u001b[49m\u001b[38;5;124;43m'\u001b[39;49m\u001b[38;5;124;43msynthetic_healthcare_interviews.csv\u001b[39;49m\u001b[38;5;124;43m'\u001b[39;49m\u001b[43m,\u001b[49m\u001b[43m \u001b[49m\u001b[43mencoding\u001b[49m\u001b[38;5;241;43m=\u001b[39;49m\u001b[38;5;124;43m'\u001b[39;49m\u001b[38;5;124;43mutf-8\u001b[39;49m\u001b[38;5;124;43m'\u001b[39;49m\u001b[43m)\u001b[49m\n",
      "File \u001b[0;32m~/miniforge3/lib/python3.12/site-packages/pandas/io/parsers/readers.py:1026\u001b[0m, in \u001b[0;36mread_csv\u001b[0;34m(filepath_or_buffer, sep, delimiter, header, names, index_col, usecols, dtype, engine, converters, true_values, false_values, skipinitialspace, skiprows, skipfooter, nrows, na_values, keep_default_na, na_filter, verbose, skip_blank_lines, parse_dates, infer_datetime_format, keep_date_col, date_parser, date_format, dayfirst, cache_dates, iterator, chunksize, compression, thousands, decimal, lineterminator, quotechar, quoting, doublequote, escapechar, comment, encoding, encoding_errors, dialect, on_bad_lines, delim_whitespace, low_memory, memory_map, float_precision, storage_options, dtype_backend)\u001b[0m\n\u001b[1;32m   1013\u001b[0m kwds_defaults \u001b[38;5;241m=\u001b[39m _refine_defaults_read(\n\u001b[1;32m   1014\u001b[0m     dialect,\n\u001b[1;32m   1015\u001b[0m     delimiter,\n\u001b[0;32m   (...)\u001b[0m\n\u001b[1;32m   1022\u001b[0m     dtype_backend\u001b[38;5;241m=\u001b[39mdtype_backend,\n\u001b[1;32m   1023\u001b[0m )\n\u001b[1;32m   1024\u001b[0m kwds\u001b[38;5;241m.\u001b[39mupdate(kwds_defaults)\n\u001b[0;32m-> 1026\u001b[0m \u001b[38;5;28;01mreturn\u001b[39;00m \u001b[43m_read\u001b[49m\u001b[43m(\u001b[49m\u001b[43mfilepath_or_buffer\u001b[49m\u001b[43m,\u001b[49m\u001b[43m \u001b[49m\u001b[43mkwds\u001b[49m\u001b[43m)\u001b[49m\n",
      "File \u001b[0;32m~/miniforge3/lib/python3.12/site-packages/pandas/io/parsers/readers.py:626\u001b[0m, in \u001b[0;36m_read\u001b[0;34m(filepath_or_buffer, kwds)\u001b[0m\n\u001b[1;32m    623\u001b[0m     \u001b[38;5;28;01mreturn\u001b[39;00m parser\n\u001b[1;32m    625\u001b[0m \u001b[38;5;28;01mwith\u001b[39;00m parser:\n\u001b[0;32m--> 626\u001b[0m     \u001b[38;5;28;01mreturn\u001b[39;00m \u001b[43mparser\u001b[49m\u001b[38;5;241;43m.\u001b[39;49m\u001b[43mread\u001b[49m\u001b[43m(\u001b[49m\u001b[43mnrows\u001b[49m\u001b[43m)\u001b[49m\n",
      "File \u001b[0;32m~/miniforge3/lib/python3.12/site-packages/pandas/io/parsers/readers.py:1923\u001b[0m, in \u001b[0;36mTextFileReader.read\u001b[0;34m(self, nrows)\u001b[0m\n\u001b[1;32m   1916\u001b[0m nrows \u001b[38;5;241m=\u001b[39m validate_integer(\u001b[38;5;124m\"\u001b[39m\u001b[38;5;124mnrows\u001b[39m\u001b[38;5;124m\"\u001b[39m, nrows)\n\u001b[1;32m   1917\u001b[0m \u001b[38;5;28;01mtry\u001b[39;00m:\n\u001b[1;32m   1918\u001b[0m     \u001b[38;5;66;03m# error: \"ParserBase\" has no attribute \"read\"\u001b[39;00m\n\u001b[1;32m   1919\u001b[0m     (\n\u001b[1;32m   1920\u001b[0m         index,\n\u001b[1;32m   1921\u001b[0m         columns,\n\u001b[1;32m   1922\u001b[0m         col_dict,\n\u001b[0;32m-> 1923\u001b[0m     ) \u001b[38;5;241m=\u001b[39m \u001b[38;5;28;43mself\u001b[39;49m\u001b[38;5;241;43m.\u001b[39;49m\u001b[43m_engine\u001b[49m\u001b[38;5;241;43m.\u001b[39;49m\u001b[43mread\u001b[49m\u001b[43m(\u001b[49m\u001b[43m  \u001b[49m\u001b[38;5;66;43;03m# type: ignore[attr-defined]\u001b[39;49;00m\n\u001b[1;32m   1924\u001b[0m \u001b[43m        \u001b[49m\u001b[43mnrows\u001b[49m\n\u001b[1;32m   1925\u001b[0m \u001b[43m    \u001b[49m\u001b[43m)\u001b[49m\n\u001b[1;32m   1926\u001b[0m \u001b[38;5;28;01mexcept\u001b[39;00m \u001b[38;5;167;01mException\u001b[39;00m:\n\u001b[1;32m   1927\u001b[0m     \u001b[38;5;28mself\u001b[39m\u001b[38;5;241m.\u001b[39mclose()\n",
      "File \u001b[0;32m~/miniforge3/lib/python3.12/site-packages/pandas/io/parsers/c_parser_wrapper.py:234\u001b[0m, in \u001b[0;36mCParserWrapper.read\u001b[0;34m(self, nrows)\u001b[0m\n\u001b[1;32m    232\u001b[0m \u001b[38;5;28;01mtry\u001b[39;00m:\n\u001b[1;32m    233\u001b[0m     \u001b[38;5;28;01mif\u001b[39;00m \u001b[38;5;28mself\u001b[39m\u001b[38;5;241m.\u001b[39mlow_memory:\n\u001b[0;32m--> 234\u001b[0m         chunks \u001b[38;5;241m=\u001b[39m \u001b[38;5;28;43mself\u001b[39;49m\u001b[38;5;241;43m.\u001b[39;49m\u001b[43m_reader\u001b[49m\u001b[38;5;241;43m.\u001b[39;49m\u001b[43mread_low_memory\u001b[49m\u001b[43m(\u001b[49m\u001b[43mnrows\u001b[49m\u001b[43m)\u001b[49m\n\u001b[1;32m    235\u001b[0m         \u001b[38;5;66;03m# destructive to chunks\u001b[39;00m\n\u001b[1;32m    236\u001b[0m         data \u001b[38;5;241m=\u001b[39m _concatenate_chunks(chunks)\n",
      "File \u001b[0;32mparsers.pyx:838\u001b[0m, in \u001b[0;36mpandas._libs.parsers.TextReader.read_low_memory\u001b[0;34m()\u001b[0m\n",
      "File \u001b[0;32mparsers.pyx:905\u001b[0m, in \u001b[0;36mpandas._libs.parsers.TextReader._read_rows\u001b[0;34m()\u001b[0m\n",
      "File \u001b[0;32mparsers.pyx:874\u001b[0m, in \u001b[0;36mpandas._libs.parsers.TextReader._tokenize_rows\u001b[0;34m()\u001b[0m\n",
      "File \u001b[0;32mparsers.pyx:891\u001b[0m, in \u001b[0;36mpandas._libs.parsers.TextReader._check_tokenize_status\u001b[0;34m()\u001b[0m\n",
      "File \u001b[0;32mparsers.pyx:2061\u001b[0m, in \u001b[0;36mpandas._libs.parsers.raise_parser_error\u001b[0;34m()\u001b[0m\n",
      "\u001b[0;31mParserError\u001b[0m: Error tokenizing data. C error: Expected 6 fields in line 6, saw 7\n"
     ]
    }
   ],
   "source": [
    "pd = pd.read_csv('synthetic_healthcare_interviews.csv', encoding='utf-8')"
   ]
  },
  {
   "cell_type": "markdown",
   "metadata": {},
   "source": [
    "**Second prompt:** \"Create a synthetic dataset of 20 interviews regarding the usage of a healthcare phone application. For each interview, data about the name, age, gender, location, transcription of sample interview, and satisfaction rating should be included. The transcription text should be wrapped in quotes to avoid delimiter issues.\""
   ]
  },
  {
   "cell_type": "code",
   "execution_count": 3,
   "metadata": {},
   "outputs": [],
   "source": [
    "df = pd.read_csv('synthetic_healthcare_interviews_second.csv', encoding='utf-8')"
   ]
  },
  {
   "cell_type": "code",
   "execution_count": 4,
   "metadata": {},
   "outputs": [
    {
     "data": {
      "text/html": [
       "<div>\n",
       "<style scoped>\n",
       "    .dataframe tbody tr th:only-of-type {\n",
       "        vertical-align: middle;\n",
       "    }\n",
       "\n",
       "    .dataframe tbody tr th {\n",
       "        vertical-align: top;\n",
       "    }\n",
       "\n",
       "    .dataframe thead th {\n",
       "        text-align: right;\n",
       "    }\n",
       "</style>\n",
       "<table border=\"1\" class=\"dataframe\">\n",
       "  <thead>\n",
       "    <tr style=\"text-align: right;\">\n",
       "      <th></th>\n",
       "      <th>Name</th>\n",
       "      <th>Age</th>\n",
       "      <th>Gender</th>\n",
       "      <th>Location</th>\n",
       "      <th>Interview Transcription</th>\n",
       "      <th>Satisfaction Rating</th>\n",
       "    </tr>\n",
       "  </thead>\n",
       "  <tbody>\n",
       "    <tr>\n",
       "      <th>12</th>\n",
       "      <td>Mona</td>\n",
       "      <td>22</td>\n",
       "      <td>Female</td>\n",
       "      <td>Houston</td>\n",
       "      <td>I like the reminders for medication and appoin...</td>\n",
       "      <td>3</td>\n",
       "    </tr>\n",
       "    <tr>\n",
       "      <th>16</th>\n",
       "      <td>Quincy</td>\n",
       "      <td>39</td>\n",
       "      <td>Male</td>\n",
       "      <td>Phoenix</td>\n",
       "      <td>I appreciate the easy access to my medical his...</td>\n",
       "      <td>4</td>\n",
       "    </tr>\n",
       "    <tr>\n",
       "      <th>5</th>\n",
       "      <td>Frank</td>\n",
       "      <td>38</td>\n",
       "      <td>Male</td>\n",
       "      <td>Los Angeles</td>\n",
       "      <td>The app has helped me stay on top of my health...</td>\n",
       "      <td>5</td>\n",
       "    </tr>\n",
       "    <tr>\n",
       "      <th>4</th>\n",
       "      <td>Eva</td>\n",
       "      <td>23</td>\n",
       "      <td>Female</td>\n",
       "      <td>New York</td>\n",
       "      <td>Overall, I am satisfied with the app's perform...</td>\n",
       "      <td>4</td>\n",
       "    </tr>\n",
       "    <tr>\n",
       "      <th>0</th>\n",
       "      <td>Alice</td>\n",
       "      <td>34</td>\n",
       "      <td>Female</td>\n",
       "      <td>San Diego</td>\n",
       "      <td>I find the app very useful for tracking my hea...</td>\n",
       "      <td>4</td>\n",
       "    </tr>\n",
       "  </tbody>\n",
       "</table>\n",
       "</div>"
      ],
      "text/plain": [
       "      Name  Age  Gender     Location  \\\n",
       "12    Mona   22  Female      Houston   \n",
       "16  Quincy   39    Male      Phoenix   \n",
       "5    Frank   38    Male  Los Angeles   \n",
       "4      Eva   23  Female     New York   \n",
       "0    Alice   34  Female    San Diego   \n",
       "\n",
       "                              Interview Transcription  Satisfaction Rating  \n",
       "12  I like the reminders for medication and appoin...                    3  \n",
       "16  I appreciate the easy access to my medical his...                    4  \n",
       "5   The app has helped me stay on top of my health...                    5  \n",
       "4   Overall, I am satisfied with the app's perform...                    4  \n",
       "0   I find the app very useful for tracking my hea...                    4  "
      ]
     },
     "execution_count": 4,
     "metadata": {},
     "output_type": "execute_result"
    }
   ],
   "source": [
    "df.sample(5)"
   ]
  },
  {
   "cell_type": "code",
   "execution_count": 5,
   "metadata": {},
   "outputs": [
    {
     "data": {
      "text/plain": [
       "Interview Transcription\n",
       "I find the app very useful for tracking my health records.             2\n",
       "The app is user-friendly and helps me schedule appointments easily.    2\n",
       "I like the reminders for medication and appointments.                  2\n",
       "The app could use some improvements in the user interface.             2\n",
       "Overall, I am satisfied with the app's performance.                    2\n",
       "The app has helped me stay on top of my health check-ups.              2\n",
       "I appreciate the easy access to my medical history through the app.    2\n",
       "The app sometimes crashes, which is frustrating.                       2\n",
       "I love the telemedicine feature in the app.                            2\n",
       "The app's customer support is very responsive and helpful.             2\n",
       "Name: count, dtype: int64"
      ]
     },
     "execution_count": 5,
     "metadata": {},
     "output_type": "execute_result"
    }
   ],
   "source": [
    "df['Interview Transcription'].value_counts()"
   ]
  },
  {
   "cell_type": "markdown",
   "metadata": {},
   "source": [
    "**Third prompt:** \"Create a synthetic dataset of 1000 responses regarding the usage of a healthcare phone application. For each interview, there should be data about the name, age, gender, location, response text, and satisfaction rating should be included. The transcription text should be wrapped in quotation marks. The responses should focus on certain features, such as reminders, interface, tracking features, AI assistance, navigability, etc.; responses should focus on 1-3 of these features; users may either enjoy or not enjoy these features. In some cases, there should be suggestions for improvement. There should also be clear positive, negative, and neutral responses. Responses should vary in length from 500-2000 characters. \""
   ]
  },
  {
   "cell_type": "code",
   "execution_count": 15,
   "metadata": {},
   "outputs": [],
   "source": [
    "df_3 = pd.read_csv('synthetic_healthcare_interviews_third.csv', encoding='utf-8')"
   ]
  },
  {
   "cell_type": "code",
   "execution_count": 16,
   "metadata": {},
   "outputs": [
    {
     "data": {
      "text/html": [
       "<div>\n",
       "<style scoped>\n",
       "    .dataframe tbody tr th:only-of-type {\n",
       "        vertical-align: middle;\n",
       "    }\n",
       "\n",
       "    .dataframe tbody tr th {\n",
       "        vertical-align: top;\n",
       "    }\n",
       "\n",
       "    .dataframe thead th {\n",
       "        text-align: right;\n",
       "    }\n",
       "</style>\n",
       "<table border=\"1\" class=\"dataframe\">\n",
       "  <thead>\n",
       "    <tr style=\"text-align: right;\">\n",
       "      <th></th>\n",
       "      <th>Name</th>\n",
       "      <th>Age</th>\n",
       "      <th>Gender</th>\n",
       "      <th>Location</th>\n",
       "      <th>Response Text</th>\n",
       "      <th>Satisfaction Rating</th>\n",
       "    </tr>\n",
       "  </thead>\n",
       "  <tbody>\n",
       "    <tr>\n",
       "      <th>936</th>\n",
       "      <td>Alice</td>\n",
       "      <td>26</td>\n",
       "      <td>Female</td>\n",
       "      <td>Houston</td>\n",
       "      <td>\"I really enjoy using the app. The AI assistan...</td>\n",
       "      <td>9</td>\n",
       "    </tr>\n",
       "    <tr>\n",
       "      <th>17</th>\n",
       "      <td>Bob</td>\n",
       "      <td>79</td>\n",
       "      <td>Female</td>\n",
       "      <td>Phoenix</td>\n",
       "      <td>\"I don't like the app. The AI assistance is to...</td>\n",
       "      <td>2</td>\n",
       "    </tr>\n",
       "    <tr>\n",
       "      <th>724</th>\n",
       "      <td>George</td>\n",
       "      <td>34</td>\n",
       "      <td>Male</td>\n",
       "      <td>Phoenix</td>\n",
       "      <td>\"Not a fan of the app. The navigability is con...</td>\n",
       "      <td>3</td>\n",
       "    </tr>\n",
       "    <tr>\n",
       "      <th>422</th>\n",
       "      <td>Ian</td>\n",
       "      <td>80</td>\n",
       "      <td>Other</td>\n",
       "      <td>Chicago</td>\n",
       "      <td>\"I have mixed feelings about the app. Some fea...</td>\n",
       "      <td>7</td>\n",
       "    </tr>\n",
       "    <tr>\n",
       "      <th>259</th>\n",
       "      <td>David</td>\n",
       "      <td>63</td>\n",
       "      <td>Male</td>\n",
       "      <td>New York</td>\n",
       "      <td>\"The app is okay. It does what it needs to do....</td>\n",
       "      <td>6</td>\n",
       "    </tr>\n",
       "  </tbody>\n",
       "</table>\n",
       "</div>"
      ],
      "text/plain": [
       "       Name  Age  Gender  Location  \\\n",
       "936   Alice   26  Female   Houston   \n",
       "17      Bob   79  Female   Phoenix   \n",
       "724  George   34    Male   Phoenix   \n",
       "422     Ian   80   Other   Chicago   \n",
       "259   David   63    Male  New York   \n",
       "\n",
       "                                         Response Text  Satisfaction Rating  \n",
       "936  \"I really enjoy using the app. The AI assistan...                    9  \n",
       "17   \"I don't like the app. The AI assistance is to...                    2  \n",
       "724  \"Not a fan of the app. The navigability is con...                    3  \n",
       "422  \"I have mixed feelings about the app. Some fea...                    7  \n",
       "259  \"The app is okay. It does what it needs to do....                    6  "
      ]
     },
     "execution_count": 16,
     "metadata": {},
     "output_type": "execute_result"
    }
   ],
   "source": [
    "df_3.sample(5)"
   ]
  },
  {
   "cell_type": "code",
   "execution_count": 17,
   "metadata": {},
   "outputs": [
    {
     "data": {
      "text/plain": [
       "Response Text\n",
       "\"I have mixed feelings about the app. Some features are good, others not so much. The navigability and AI assistance are average. Additionally, I think the navigability could be improved. Additionally, I think the interface could be improved. Additionally, I think the tracking features could be improved. Additionally, I think the navigability could be improved. Additionally, I think the tracking features could be improved. Additionally, I think the AI assistance could be improved. Additionally, I think the reminders could be improved.\"                      1\n",
       "\"The app is fine, but I don't use it very often. The interface and AI assistance are okay. Additionally, I think the AI assistance could be improved. Additionally, I think the navigability could be improved. Additionally, I think the reminders could be improved. Additionally, I think the tracking features could be improved. Additionally, I think the navigability could be improved. Additionally, I think the reminders could be improved. Additionally, I think the interface could be improved. Additionally, I think the tracking features could be improved.\"      1\n",
       "\"The app is average. Nothing special, but it works. The reminders could use some improvements. Additionally, I think the navigability could be improved. Additionally, I think the navigability could be improved. Additionally, I think the navigability could be improved. Additionally, I think the tracking features could be improved. Additionally, I think the navigability could be improved. Additionally, I think the reminders could be improved. Additionally, I think the AI assistance could be improved.\"                                                           1\n",
       "\"The app crashes frequently. Very frustrating! The tracking features is not reliable. Additionally, I think the AI assistance could be improved. Additionally, I think the interface could be improved. Additionally, I think the interface could be improved. Additionally, I think the tracking features could be improved. Additionally, I think the AI assistance could be improved. Additionally, I think the AI assistance could be improved. Additionally, I think the interface could be improved. Additionally, I think the tracking features could be improved.\"         1\n",
       "\"The app is fantastic! The AI assistance are very helpful. I also enjoy the tracking features. Additionally, I think the reminders could be improved. Additionally, I think the AI assistance could be improved. Additionally, I think the interface could be improved. Additionally, I think the interface could be improved. Additionally, I think the reminders could be improved. Additionally, I think the AI assistance could be improved. Additionally, I think the AI assistance could be improved. Additionally, I think the tracking features could be improved.\"        1\n",
       "                                                                                                                                                                                                                                                                                                                                                                                                                                                                                                                                                                                  ..\n",
       "\"I love the app! The tracking features is very user-friendly and has helped me keep track of my health. The reminders is also fantastic! Additionally, I think the navigability could be improved. Additionally, I think the interface could be improved. Additionally, I think the navigability could be improved. Additionally, I think the interface could be improved. Additionally, I think the navigability could be improved. Additionally, I think the interface could be improved. Additionally, I think the tracking features could be improved.\"                        1\n",
       "\"I don't like the app. The AI assistance is too complicated to use. The tracking features needs improvement. Additionally, I think the navigability could be improved. Additionally, I think the AI assistance could be improved. Additionally, I think the navigability could be improved. Additionally, I think the tracking features could be improved. Additionally, I think the reminders could be improved. Additionally, I think the reminders could be improved. Additionally, I think the reminders could be improved.\"                                                   1\n",
       "\"The app is okay. It does what it needs to do. The reminders is decent. Additionally, I think the tracking features could be improved. Additionally, I think the navigability could be improved. Additionally, I think the interface could be improved. Additionally, I think the reminders could be improved. Additionally, I think the navigability could be improved. Additionally, I think the reminders could be improved. Additionally, I think the AI assistance could be improved. Additionally, I think the navigability could be improved.\"                              1\n",
       "\"The app is amazing! I especially like the AI assistance. The reminders is also a great feature. Additionally, I think the navigability could be improved. Additionally, I think the reminders could be improved. Additionally, I think the AI assistance could be improved. Additionally, I think the reminders could be improved. Additionally, I think the navigability could be improved. Additionally, I think the tracking features could be improved. Additionally, I think the reminders could be improved. Additionally, I think the AI assistance could be improved.\"    1\n",
       "\"I really enjoy using the app. The interface has made managing my health so much easier. The tracking features is a great addition. Additionally, I think the reminders could be improved. Additionally, I think the navigability could be improved. Additionally, I think the AI assistance could be improved. Additionally, I think the interface could be improved. Additionally, I think the interface could be improved. Additionally, I think the AI assistance could be improved. Additionally, I think the reminders could be improved.\"                                   1\n",
       "Name: count, Length: 1000, dtype: int64"
      ]
     },
     "execution_count": 17,
     "metadata": {},
     "output_type": "execute_result"
    }
   ],
   "source": [
    "df_3['Response Text'].value_counts()"
   ]
  }
 ],
 "metadata": {
  "kernelspec": {
   "display_name": "base",
   "language": "python",
   "name": "python3"
  },
  "language_info": {
   "codemirror_mode": {
    "name": "ipython",
    "version": 3
   },
   "file_extension": ".py",
   "mimetype": "text/x-python",
   "name": "python",
   "nbconvert_exporter": "python",
   "pygments_lexer": "ipython3",
   "version": "3.12.7"
  }
 },
 "nbformat": 4,
 "nbformat_minor": 2
}
